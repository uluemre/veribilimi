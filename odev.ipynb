{
  "nbformat": 4,
  "nbformat_minor": 0,
  "metadata": {
    "colab": {
      "provenance": []
    },
    "kernelspec": {
      "name": "python3",
      "display_name": "Python 3"
    },
    "language_info": {
      "name": "python"
    }
  },
  "cells": [
    {
      "cell_type": "markdown",
      "source": [
        "# Yeni Bölüm"
      ],
      "metadata": {
        "id": "z1grJOWCCr3Q"
      }
    },
    {
      "cell_type": "code",
      "source": [
        "ad = input(\"Adınızı giriniz: \")\n",
        "yas = int(input(\"Yaşınızı giriniz: \"))\n",
        "boy = int(input(\"Boyunuzu giriniz: \"))\n",
        "\n",
        "print(f\"Merhaba {ad}, {yas} yaşındasın ve boyun {boy} .\")"
      ],
      "metadata": {
        "colab": {
          "base_uri": "https://localhost:8080/"
        },
        "id": "mRQGYMjkC0cm",
        "outputId": "dffe4652-dc80-4350-85ad-d255652db956"
      },
      "execution_count": null,
      "outputs": [
        {
          "output_type": "stream",
          "name": "stdout",
          "text": [
            "Adınızı giriniz: emre\n",
            "Yaşınızı giriniz: 22\n",
            "Boyunuzu giriniz: 199\n",
            "Merhaba emre, 22 yaşındasın ve boyun 199 .\n"
          ]
        }
      ]
    },
    {
      "cell_type": "code",
      "source": [
        "m = int(input(\"Matematik notu: \"))\n",
        "f = int(input(\"Fizik notu: \"))\n",
        "k = int(input(\"Kimya notu: \"))\n",
        "\n",
        "ortalama = (m + f + k) / 3\n",
        "print(\"Ortalama:\", float(ortalama))"
      ],
      "metadata": {
        "colab": {
          "base_uri": "https://localhost:8080/"
        },
        "id": "Bi3H_cFwDjJJ",
        "outputId": "afb456ad-ae95-4001-d51d-c9841c1c8afb"
      },
      "execution_count": null,
      "outputs": [
        {
          "output_type": "stream",
          "name": "stdout",
          "text": [
            "Matematik notu: 12\n",
            "Fizik notu: 44\n",
            "Kimya notu: 100\n",
            "Ortalama: 52.0\n"
          ]
        }
      ]
    },
    {
      "cell_type": "code",
      "source": [
        "metin = \"EmRe\"\n",
        "print(\"İlk karakter:\", metin[0])\n",
        "print(\"Son karakter:\", metin[-1])\n",
        "print(\"Uzunluk:\", len(metin))\n",
        "print(\"Ters:\", metin[::-1])"
      ],
      "metadata": {
        "colab": {
          "base_uri": "https://localhost:8080/"
        },
        "id": "uCEn5p8mD26J",
        "outputId": "178e92b6-f52d-4ea5-b556-2f62547943fc"
      },
      "execution_count": null,
      "outputs": [
        {
          "output_type": "stream",
          "name": "stdout",
          "text": [
            "İlk karakter: E\n",
            "Son karakter: e\n",
            "Uzunluk: 4\n",
            "Ters: eRmE\n"
          ]
        }
      ]
    },
    {
      "cell_type": "code",
      "source": [
        "sayi1 = int(input(\"Birinci sayı: \"))\n",
        "sayi2 = int(input(\"İkinci sayı: \"))\n",
        "\n",
        "print(\"Toplama:\", sayi1 + sayi2)\n",
        "print(\"Çıkarma:\", sayi1 - sayi2)\n",
        "print(\"Çarpma:\", sayi1 * sayi2)\n",
        "print(\"Bölme:\", sayi1 / sayi2)\n",
        "print(\"Mod:\", sayi1 % sayi2)"
      ],
      "metadata": {
        "colab": {
          "base_uri": "https://localhost:8080/"
        },
        "id": "u89HEuvmEBPB",
        "outputId": "cf76c616-4c3e-4a9a-9bbe-aecccc747809"
      },
      "execution_count": null,
      "outputs": [
        {
          "output_type": "stream",
          "name": "stdout",
          "text": [
            "Birinci sayı: 3\n",
            "İkinci sayı: 3245325431\n",
            "Toplama: 3245325434\n",
            "Çıkarma: -3245325428\n",
            "Çarpma: 9735976293\n",
            "Bölme: 9.244065237166657e-10\n",
            "Mod: 3\n"
          ]
        }
      ]
    },
    {
      "cell_type": "code",
      "source": [
        "ortalama = float(input(\"Öğrencinin ortalamasını giriniz: \"))\n",
        "\n",
        "if ortalama >= 50:\n",
        "    print(\"Geçti\")\n",
        "else:\n",
        "    print(\"Kaldı\")"
      ],
      "metadata": {
        "colab": {
          "base_uri": "https://localhost:8080/"
        },
        "id": "DUFaNsxfFDsg",
        "outputId": "357848f9-7292-4e04-9586-96f7945e749a"
      },
      "execution_count": null,
      "outputs": [
        {
          "output_type": "stream",
          "name": "stdout",
          "text": [
            "Öğrencinin ortalamasını giriniz: 34\n",
            "Kaldı\n"
          ]
        }
      ]
    },
    {
      "cell_type": "code",
      "source": [
        "yas = int(input(\"Yaşınızı giriniz: \"))\n",
        "if yas >= 18:\n",
        "    print(\"Ehliyet alabilirsiniz.\")\n",
        "else:\n",
        "    print(\"Ehliyet alamazsınız.\")"
      ],
      "metadata": {
        "colab": {
          "base_uri": "https://localhost:8080/"
        },
        "id": "EBXuxb1dFitF",
        "outputId": "c3d27853-67f7-4e35-c424-2c274317e0cc"
      },
      "execution_count": null,
      "outputs": [
        {
          "output_type": "stream",
          "name": "stdout",
          "text": [
            "Yaşınızı giriniz: 34\n",
            "Ehliyet alabilirsiniz.\n"
          ]
        }
      ]
    },
    {
      "cell_type": "code",
      "source": [
        "fiyat = float(input(\"Ürün fiyatı: \"))\n",
        "indirim = float(input(\"İndirim oranı (%): \"))\n",
        "\n",
        "indirimli_fiyat = fiyat - (fiyat * indirim / 100)\n",
        "print(\"İndirimli fiyat:\", indirimli_fiyat)"
      ],
      "metadata": {
        "colab": {
          "base_uri": "https://localhost:8080/"
        },
        "id": "ujg5VRIHUQ_e",
        "outputId": "480a70a3-89ef-4633-98af-5a849855ea06"
      },
      "execution_count": null,
      "outputs": [
        {
          "output_type": "stream",
          "name": "stdout",
          "text": [
            "Ürün fiyatı: 45\n",
            "İndirim oranı (%): 8\n",
            "İndirimli fiyat: 41.4\n"
          ]
        }
      ]
    },
    {
      "cell_type": "code",
      "source": [
        "a = True\n",
        "b = False\n",
        "\n",
        "print(\"a AND b:\", a and b)\n",
        "print(\"a OR b:\", a or b)\n",
        "print(\"NOT a:\", not a)\n",
        "print(\"NOT b:\", not b)\n",
        "\n"
      ],
      "metadata": {
        "colab": {
          "base_uri": "https://localhost:8080/"
        },
        "id": "nRqqPKmpUeMb",
        "outputId": "371e4183-c0e2-47f8-82b8-72fc8e5b9fa1"
      },
      "execution_count": null,
      "outputs": [
        {
          "output_type": "stream",
          "name": "stdout",
          "text": [
            "a AND b: False\n",
            "a OR b: True\n",
            "NOT a: False\n",
            "NOT b: True\n"
          ]
        }
      ]
    },
    {
      "cell_type": "code",
      "source": [
        "ürün1 = float(input(\"Ürün 1 fiyatı: \"))\n",
        "ürün2 = float(input(\"Ürün 2 fiyatı: \"))\n",
        "ürün3 = float(input(\"Ürün 3 fiyatı: \"))\n",
        "\n",
        "toplamfiyat = ürün1 + ürün2 + ürün3\n",
        "print(\"Toplam fiyat:\",toplamfiyat)\n",
        "\n",
        "if toplamfiyat>200:\n",
        "  toplamfiyat=toplamfiyat * 0.9\n",
        "  print(\"Yüzde 10 indirim kazandınız.\")\n",
        "\n",
        "print(\"Ödenecek fiyat:\",toplamfiyat)"
      ],
      "metadata": {
        "colab": {
          "base_uri": "https://localhost:8080/"
        },
        "id": "pIqcMtumVd7p",
        "outputId": "a8d10cc5-d961-4944-9b7d-bcaf086b52bc"
      },
      "execution_count": null,
      "outputs": [
        {
          "output_type": "stream",
          "name": "stdout",
          "text": [
            "Ürün 1 fiyatı: 45\n",
            "Ürün 2 fiyatı: 25\n",
            "Ürün 3 fiyatı: 35\n",
            "Toplam fiyat: 105.0\n",
            "Ödenecek fiyat: 105.0\n"
          ]
        }
      ]
    },
    {
      "cell_type": "code",
      "source": [
        "dyıl = int(input(\"Doğum yılınızı giriniz: \"))\n",
        "yas = 2025 - dyıl\n",
        "print(\"Yaşınız:\", yas)\n",
        "\n",
        "if yas >= 0 and yas <= 12:\n",
        "    print(\"Çocuksunuz\")\n",
        "elif yas >= 13 and yas <= 17:\n",
        "    print(\"Ergensiniz\")\n",
        "elif yas >= 18:\n",
        "    print(\"yetiskinsiniz\")\n",
        "\n"
      ],
      "metadata": {
        "colab": {
          "base_uri": "https://localhost:8080/"
        },
        "id": "hla9UM1mWrMM",
        "outputId": "418cbfc5-5076-4010-c1d6-fdeba3fbd00c"
      },
      "execution_count": null,
      "outputs": [
        {
          "output_type": "stream",
          "name": "stdout",
          "text": [
            "Doğum yılınızı giriniz: 2003\n",
            "Yaşınız: 22\n",
            "yetiskinsiniz\n"
          ]
        }
      ]
    },
    {
      "cell_type": "code",
      "source": [],
      "metadata": {
        "id": "nCBqhlmKY8rr"
      },
      "execution_count": null,
      "outputs": []
    }
  ]
}