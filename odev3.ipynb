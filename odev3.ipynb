{
  "nbformat": 4,
  "nbformat_minor": 0,
  "metadata": {
    "colab": {
      "provenance": [],
      "authorship_tag": "ABX9TyOBNXWKoPK6h0qPZrv1mCAb",
      "include_colab_link": true
    },
    "kernelspec": {
      "name": "python3",
      "display_name": "Python 3"
    },
    "language_info": {
      "name": "python"
    }
  },
  "cells": [
    {
      "cell_type": "markdown",
      "metadata": {
        "id": "view-in-github",
        "colab_type": "text"
      },
      "source": [
        "<a href=\"https://colab.research.google.com/github/uluemre/veribilimi/blob/main/odev3.ipynb\" target=\"_parent\"><img src=\"https://colab.research.google.com/assets/colab-badge.svg\" alt=\"Open In Colab\"/></a>"
      ]
    },
    {
      "cell_type": "code",
      "execution_count": 1,
      "metadata": {
        "colab": {
          "base_uri": "https://localhost:8080/"
        },
        "id": "UNxXo_gmkOBT",
        "outputId": "51c55da2-03f3-4fc6-dbcc-47fd11d62ed9"
      },
      "outputs": [
        {
          "output_type": "stream",
          "name": "stdout",
          "text": [
            "Benzersiz: [100, 92, 85, 76]\n",
            "En yüksek: 100\n",
            "En düşük: 76\n",
            "Sıralı: [76, 85, 92, 100]\n"
          ]
        }
      ],
      "source": [
        "notlar = [85, 92, 76, 92, 100, 76, 85, 92]\n",
        "\n",
        "benzersiz = list(set(notlar))\n",
        "\n",
        "en_yuksek = max(notlar)\n",
        "en_dusuk = min(notlar)\n",
        "\n",
        "sirali = sorted(benzersiz)\n",
        "\n",
        "print(\"Benzersiz:\", benzersiz)\n",
        "print(\"En yüksek:\", en_yuksek)\n",
        "print(\"En düşük:\", en_dusuk)\n",
        "print(\"Sıralı:\", sirali)\n"
      ]
    },
    {
      "cell_type": "code",
      "source": [
        "def armstrong_mu(sayi):\n"
      ],
      "metadata": {
        "colab": {
          "base_uri": "https://localhost:8080/",
          "height": 111
        },
        "id": "qH_2BtR8kVUb",
        "outputId": "55b34658-fa29-49ec-c135-fd4cc4465f5b"
      },
      "execution_count": 10,
      "outputs": [
        {
          "output_type": "error",
          "ename": "SyntaxError",
          "evalue": "incomplete input (ipython-input-2497723952.py, line 1)",
          "traceback": [
            "\u001b[0;36m  File \u001b[0;32m\"/tmp/ipython-input-2497723952.py\"\u001b[0;36m, line \u001b[0;32m1\u001b[0m\n\u001b[0;31m    def armstrong_mu(sayi):\u001b[0m\n\u001b[0m                           ^\u001b[0m\n\u001b[0;31mSyntaxError\u001b[0m\u001b[0;31m:\u001b[0m incomplete input\n"
          ]
        }
      ]
    },
    {
      "cell_type": "code",
      "source": [
        "A = {\"Python\", \"R\", \"SQL\", \"Java\"}\n",
        "B = {\"C++\", \"Python\", \"JavaScript\", \"SQL\"}\n",
        "\n",
        "print(\"Ortak:\", A & B)\n",
        "print(\"Sadece A:\", A - B)\n",
        "print(\"Birleşim:\", sorted(A | B))\n"
      ],
      "metadata": {
        "colab": {
          "base_uri": "https://localhost:8080/"
        },
        "id": "ffO5Wp-rkYhb",
        "outputId": "e7e627a8-8883-422b-9115-f36895f02cd7"
      },
      "execution_count": 3,
      "outputs": [
        {
          "output_type": "stream",
          "name": "stdout",
          "text": [
            "Ortak: {'Python', 'SQL'}\n",
            "Sadece A: {'R', 'Java'}\n",
            "Birleşim: ['C++', 'Java', 'JavaScript', 'Python', 'R', 'SQL']\n"
          ]
        }
      ]
    },
    {
      "cell_type": "code",
      "source": [
        "import random, statistics\n",
        "\n",
        "sayilar = [random.randint(1, 100) for _ in range(10)]\n",
        "\n",
        "print(\"Sayılar:\", sayilar)\n",
        "print(\"Ortalama:\", statistics.mean(sayilar))\n",
        "print(\"Standart Sapma:\", statistics.stdev(sayilar))\n"
      ],
      "metadata": {
        "colab": {
          "base_uri": "https://localhost:8080/"
        },
        "id": "LvVGGJuLkbye",
        "outputId": "904df455-f2d3-40af-e88a-a7050263c4b5"
      },
      "execution_count": 8,
      "outputs": [
        {
          "output_type": "stream",
          "name": "stdout",
          "text": [
            "Sayılar: [45, 51, 16, 19, 47, 33, 26, 38, 9, 3]\n",
            "Ortalama: 28.7\n",
            "Standart Sapma: 16.7136005828919\n"
          ]
        }
      ]
    },
    {
      "cell_type": "code",
      "source": [
        "def kelime_sayaci(metin):\n",
        "    kelimeler = metin.split()\n",
        "    toplam = len(kelimeler)\n",
        "    en_uzun = max(kelimeler, key=len)\n",
        "    en_sık = max(set(kelimeler), key=kelimeler.count)\n",
        "    return toplam, en_uzun, en_sık\n",
        "\n",
        "print(kelime_sayaci(\"python veri yapay zeka zeka veri bilim yapayzeka veri\"))\n"
      ],
      "metadata": {
        "colab": {
          "base_uri": "https://localhost:8080/"
        },
        "id": "Ve13hYlgkgk2",
        "outputId": "cc2f771e-81f3-4865-e70f-bad224b4ca06"
      },
      "execution_count": 19,
      "outputs": [
        {
          "output_type": "stream",
          "name": "stdout",
          "text": [
            "(9, 'yapayzeka', 'veri')\n"
          ]
        }
      ]
    },
    {
      "cell_type": "code",
      "source": [
        "sayilar = [5, 12, 7, 18, 24, 3, 16]\n",
        "\n",
        "ciftler = list(filter(lambda x: x % 2 == 0, sayilar))\n",
        "kareler = list(map(lambda x: x**2, ciftler))\n",
        "sirali = sorted(kareler, reverse=True)\n",
        "\n",
        "print(\"Çiftler:\", ciftler)\n",
        "print(\"Kareleri:\", kareler)\n",
        "print(\"Azalan:\", sirali)\n"
      ],
      "metadata": {
        "colab": {
          "base_uri": "https://localhost:8080/"
        },
        "id": "TKWvVpDFkqwI",
        "outputId": "759959df-c372-42aa-abf0-8cde15f8638a"
      },
      "execution_count": 20,
      "outputs": [
        {
          "output_type": "stream",
          "name": "stdout",
          "text": [
            "Çiftler: [12, 18, 24, 16]\n",
            "Kareleri: [144, 324, 576, 256]\n",
            "Azalan: [576, 324, 256, 144]\n"
          ]
        }
      ]
    },
    {
      "cell_type": "code",
      "source": [
        "kelimeler = [\"veri\", \"bilim\", \"analiz\", \"yapayzeka\", \"python\"]\n",
        "sirali = sorted(kelimeler, key=lambda x: len(x))\n",
        "print(sirali)\n"
      ],
      "metadata": {
        "colab": {
          "base_uri": "https://localhost:8080/"
        },
        "id": "iToFzmpnk9i7",
        "outputId": "23fa4a44-6f44-46c7-dce2-72571d5420ea"
      },
      "execution_count": 21,
      "outputs": [
        {
          "output_type": "stream",
          "name": "stdout",
          "text": [
            "['veri', 'bilim', 'analiz', 'python', 'yapayzeka']\n"
          ]
        }
      ]
    },
    {
      "cell_type": "code",
      "source": [
        "def rakam_toplam(metin):\n",
        "\n"
      ],
      "metadata": {
        "colab": {
          "base_uri": "https://localhost:8080/",
          "height": 111
        },
        "id": "363Ghga0lE5E",
        "outputId": "c5ed4d85-9504-47e1-d21f-519695a0cadd"
      },
      "execution_count": 28,
      "outputs": [
        {
          "output_type": "error",
          "ename": "SyntaxError",
          "evalue": "incomplete input (ipython-input-4152318739.py, line 2)",
          "traceback": [
            "\u001b[0;36m  File \u001b[0;32m\"/tmp/ipython-input-4152318739.py\"\u001b[0;36m, line \u001b[0;32m2\u001b[0m\n\u001b[0;31m    \u001b[0m\n\u001b[0m    ^\u001b[0m\n\u001b[0;31mSyntaxError\u001b[0m\u001b[0;31m:\u001b[0m incomplete input\n"
          ]
        }
      ]
    },
    {
      "cell_type": "code",
      "source": [
        "import numpy as np\n",
        "\n",
        "dizi = np.random.randint(0, 51, 10)\n",
        "print(\"Dizi:\", dizi)\n",
        "print(\"Ortalama:\", np.mean(dizi))\n",
        "print(\"Std Sapma:\", np.std(dizi))\n",
        "print(\"Max:\", np.max(dizi))\n"
      ],
      "metadata": {
        "colab": {
          "base_uri": "https://localhost:8080/"
        },
        "id": "ergdHGgYlPJP",
        "outputId": "942ae42b-e22b-4b8c-e019-b73fd7a1ffe4"
      },
      "execution_count": 31,
      "outputs": [
        {
          "output_type": "stream",
          "name": "stdout",
          "text": [
            "Dizi: [36  8 32  3  6 11 26 20 32  8]\n",
            "Ortalama: 18.2\n",
            "Std Sapma: 11.838918869558993\n",
            "Max: 36\n"
          ]
        }
      ]
    },
    {
      "cell_type": "code",
      "source": [
        "matris = np.random.rand(5, 5)\n",
        "print(\"Matris:\\n\", matris)\n",
        "\n",
        "sutun_ort = np.mean(matris, axis=0)\n",
        "print(\"Sütun Ort:\", sutun_ort)\n",
        "\n",
        "binary = (matris > 0.5).astype(int)\n",
        "print(\"Binary Matris:\\n\", binary)\n"
      ],
      "metadata": {
        "colab": {
          "base_uri": "https://localhost:8080/"
        },
        "id": "rMnav-ZilUbH",
        "outputId": "29e8a85f-ddd4-4496-abaf-f7b3f1069f22"
      },
      "execution_count": 33,
      "outputs": [
        {
          "output_type": "stream",
          "name": "stdout",
          "text": [
            "Matris:\n",
            " [[0.48382631 0.28001322 0.95634952 0.02320761 0.77195354]\n",
            " [0.1280788  0.69176303 0.23121205 0.26298149 0.35361737]\n",
            " [0.78563447 0.75979734 0.25174878 0.32831215 0.86653048]\n",
            " [0.64569556 0.89317443 0.17681715 0.2072335  0.10427285]\n",
            " [0.17662761 0.19358609 0.64413643 0.85944622 0.12276236]]\n",
            "Sütun Ort: [0.44397255 0.56366682 0.45205279 0.33623619 0.44382732]\n",
            "Binary Matris:\n",
            " [[0 0 1 0 1]\n",
            " [0 1 0 0 0]\n",
            " [1 1 0 0 1]\n",
            " [1 1 0 0 0]\n",
            " [0 0 1 1 0]]\n"
          ]
        }
      ]
    },
    {
      "cell_type": "code",
      "source": [
        "import statistics, random\n",
        "from collections import Counter\n",
        "\n",
        "kitaplar = [\n",
        "    {\"isim\": \"Veri Bilimi 101\", \"yazar\": \"Ali\", \"tur\": \"Bilim\", \"satis\": 1200, \"yil\": 2021},\n",
        "    {\"isim\": \"Python ile Yapay Zeka\", \"yazar\": \"Ayşe\", \"tur\": \"Bilim\", \"satis\": 950, \"yil\": 2020},\n",
        "    {\"isim\": \"İstatistik Temelleri\", \"yazar\": \"Ali\", \"tur\": \"Akademik\", \"satis\": 700, \"yil\": 2019},\n",
        "    {\"isim\": \"Makine Öğrenmesi\", \"yazar\": \"Can\", \"tur\": \"Bilim\", \"satis\": 1800, \"yil\": 2022},\n",
        "    {\"isim\": \"Veri Görselleştirme\", \"yazar\": \"Deniz\", \"tur\": \"Sanat\", \"satis\": 400, \"yil\": 2018},\n",
        "    {\"isim\": \"Matematiksel Modelleme\", \"yazar\": \"Ali\", \"tur\": \"Akademik\", \"satis\": 1500, \"yil\": 2021},\n",
        "    {\"isim\": \"Bilgi Toplumu\", \"yazar\": \"Ayşe\", \"tur\": \"Sosyal\", \"satis\": 600, \"yil\": 2022}\n",
        "]\n",
        "\n",
        "# 1.\n",
        "def en_cok_satan(kitaplar):\n",
        "    return max(kitaplar, key=lambda x: x[\"satis\"])\n",
        "\n",
        "def yazar_satislari(kitaplar):\n",
        "    sonuc = {}\n",
        "    for k in kitaplar:\n",
        "        sonuc[k[\"yazar\"]] = sonuc.get(k[\"yazar\"], 0) + k[\"satis\"]\n",
        "    return sonuc\n",
        "\n",
        "print(\" En çok satan kitap:\", en_cok_satan(kitaplar)[\"isim\"])\n",
        "print(\" Yazar satışları:\", yazar_satislari(kitaplar))\n",
        "\n",
        "# 2.\n",
        "turler = {k[\"tur\"] for k in kitaplar}\n",
        "fazla_satanlar = [k[\"isim\"] for k in kitaplar if k[\"satis\"] > 1000]\n",
        "\n",
        "print(\" Türler:\", turler)\n",
        "print(\" 1000’den fazla satan kitaplar:\", fazla_satanlar)\n",
        "\n",
        "# 3.\n",
        "yeni_kitaplar = list(filter(lambda k: k[\"yil\"] > 2020, kitaplar))\n",
        "artisli_satis = list(map(lambda k: k[\"satis\"]*1.1, kitaplar))\n",
        "sirali = sorted(kitaplar, key=lambda x: x[\"satis\"], reverse=True)\n",
        "\n",
        "print(\" 2020 sonrası çıkanlar:\", [k[\"isim\"] for k in yeni_kitaplar])\n",
        "print(\" %10 artışlı satış listesi:\", artisli_satis)\n",
        "print(\" Satışa göre sıralı:\", [k[\"isim\"] for k in sirali])\n",
        "\n",
        "# 4.\n",
        "ortalama = statistics.mean([k[\"satis\"] for k in kitaplar])\n",
        "stdsapma = statistics.stdev([k[\"satis\"] for k in kitaplar])\n",
        "\n",
        "tur_sayilari = Counter([k[\"tur\"] for k in kitaplar])\n",
        "en_cok_tur = max(tur_sayilari, key=tur_sayilari.get)\n",
        "\n",
        "print(\" Ortalama satış:\", round(ortalama, 1))\n",
        "print(\" Standart sapma:\", round(stdsapma, 1))\n",
        "print(\" En çok satış yapan tür:\", en_cok_tur)\n",
        "\n",
        "# 5.\n",
        "\n",
        "train = random.sample(kitaplar, int(len(kitaplar)*0.7))\n",
        "test = [k for k in kitaplar if k not in train]\n",
        "\n",
        "train_ortalama = statistics.mean([k[\"satis\"] for k in train])\n",
        "test_ustunde = [k[\"isim\"] for k in test if k[\"satis\"] > train_ortalama]\n",
        "\n",
        "print(\" Train ortalama satış:\", round(train_ortalama, 1))\n",
        "print(\" Test verisinde ortalama üstünde satanlar:\", test_ustunde)\n"
      ],
      "metadata": {
        "colab": {
          "base_uri": "https://localhost:8080/"
        },
        "id": "N5WW3Lq-lYLV",
        "outputId": "cfd08485-f131-4fff-fdb2-8866b1a3f597"
      },
      "execution_count": 52,
      "outputs": [
        {
          "output_type": "stream",
          "name": "stdout",
          "text": [
            " En çok satan kitap: Makine Öğrenmesi\n",
            " Yazar satışları: {'Ali': 3400, 'Ayşe': 1550, 'Can': 1800, 'Deniz': 400}\n",
            " Türler: {'Akademik', 'Bilim', 'Sosyal', 'Sanat'}\n",
            " 1000’den fazla satan kitaplar: ['Veri Bilimi 101', 'Makine Öğrenmesi', 'Matematiksel Modelleme']\n",
            " 2020 sonrası çıkanlar: ['Veri Bilimi 101', 'Makine Öğrenmesi', 'Matematiksel Modelleme', 'Bilgi Toplumu']\n",
            " %10 artışlı satış listesi: [1320.0, 1045.0, 770.0000000000001, 1980.0000000000002, 440.00000000000006, 1650.0000000000002, 660.0]\n",
            " Satışa göre sıralı: ['Makine Öğrenmesi', 'Matematiksel Modelleme', 'Veri Bilimi 101', 'Python ile Yapay Zeka', 'İstatistik Temelleri', 'Bilgi Toplumu', 'Veri Görselleştirme']\n",
            " Ortalama satış: 1021.4\n",
            " Standart sapma: 506.5\n",
            " En çok satış yapan tür: Bilim\n",
            " Train ortalama satış: 1087.5\n",
            " Test verisinde ortalama üstünde satanlar: ['Makine Öğrenmesi']\n"
          ]
        }
      ]
    }
  ]
}