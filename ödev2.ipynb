{
  "nbformat": 4,
  "nbformat_minor": 0,
  "metadata": {
    "colab": {
      "provenance": []
    },
    "kernelspec": {
      "name": "python3",
      "display_name": "Python 3"
    },
    "language_info": {
      "name": "python"
    }
  },
  "cells": [
    {
      "cell_type": "code",
      "source": [
        "sayi = int(input(\"Bir sayı girin: \"))\n",
        "\n",
        "if sayi > 0:\n",
        "    durum = \"Pozitif\"\n",
        "elif sayi < 0:\n",
        "    durum = \"Negatif\"\n",
        "else:\n",
        "    durum = \"Sıfır\"\n",
        "\n",
        "if sayi % 2 == 0:\n",
        "    tekcift = \"Çift\"\n",
        "else:\n",
        "    tekcift = \"Tek\"\n",
        "\n",
        "print(durum, tekcift)\n"
      ],
      "metadata": {
        "colab": {
          "base_uri": "https://localhost:8080/",
          "height": 371
        },
        "id": "dARyfdM2lWdU",
        "outputId": "75ba2cc8-fa4b-4eca-86f8-54214ef52b8c"
      },
      "execution_count": 2,
      "outputs": [
        {
          "output_type": "error",
          "ename": "KeyboardInterrupt",
          "evalue": "Interrupted by user",
          "traceback": [
            "\u001b[0;31m---------------------------------------------------------------------------\u001b[0m",
            "\u001b[0;31mKeyboardInterrupt\u001b[0m                         Traceback (most recent call last)",
            "\u001b[0;32m/tmp/ipython-input-3013825098.py\u001b[0m in \u001b[0;36m<cell line: 0>\u001b[0;34m()\u001b[0m\n\u001b[0;32m----> 1\u001b[0;31m \u001b[0msayi\u001b[0m \u001b[0;34m=\u001b[0m \u001b[0mint\u001b[0m\u001b[0;34m(\u001b[0m\u001b[0minput\u001b[0m\u001b[0;34m(\u001b[0m\u001b[0;34m\"Bir sayı girin: \"\u001b[0m\u001b[0;34m)\u001b[0m\u001b[0;34m)\u001b[0m\u001b[0;34m\u001b[0m\u001b[0;34m\u001b[0m\u001b[0m\n\u001b[0m\u001b[1;32m      2\u001b[0m \u001b[0;34m\u001b[0m\u001b[0m\n\u001b[1;32m      3\u001b[0m \u001b[0;32mif\u001b[0m \u001b[0msayi\u001b[0m \u001b[0;34m>\u001b[0m \u001b[0;36m0\u001b[0m\u001b[0;34m:\u001b[0m\u001b[0;34m\u001b[0m\u001b[0;34m\u001b[0m\u001b[0m\n\u001b[1;32m      4\u001b[0m     \u001b[0mdurum\u001b[0m \u001b[0;34m=\u001b[0m \u001b[0;34m\"Pozitif\"\u001b[0m\u001b[0;34m\u001b[0m\u001b[0;34m\u001b[0m\u001b[0m\n\u001b[1;32m      5\u001b[0m \u001b[0;32melif\u001b[0m \u001b[0msayi\u001b[0m \u001b[0;34m<\u001b[0m \u001b[0;36m0\u001b[0m\u001b[0;34m:\u001b[0m\u001b[0;34m\u001b[0m\u001b[0;34m\u001b[0m\u001b[0m\n",
            "\u001b[0;32m/usr/local/lib/python3.12/dist-packages/ipykernel/kernelbase.py\u001b[0m in \u001b[0;36mraw_input\u001b[0;34m(self, prompt)\u001b[0m\n\u001b[1;32m   1175\u001b[0m                 \u001b[0;34m\"raw_input was called, but this frontend does not support input requests.\"\u001b[0m\u001b[0;34m\u001b[0m\u001b[0;34m\u001b[0m\u001b[0m\n\u001b[1;32m   1176\u001b[0m             )\n\u001b[0;32m-> 1177\u001b[0;31m         return self._input_request(\n\u001b[0m\u001b[1;32m   1178\u001b[0m             \u001b[0mstr\u001b[0m\u001b[0;34m(\u001b[0m\u001b[0mprompt\u001b[0m\u001b[0;34m)\u001b[0m\u001b[0;34m,\u001b[0m\u001b[0;34m\u001b[0m\u001b[0;34m\u001b[0m\u001b[0m\n\u001b[1;32m   1179\u001b[0m             \u001b[0mself\u001b[0m\u001b[0;34m.\u001b[0m\u001b[0m_parent_ident\u001b[0m\u001b[0;34m[\u001b[0m\u001b[0;34m\"shell\"\u001b[0m\u001b[0;34m]\u001b[0m\u001b[0;34m,\u001b[0m\u001b[0;34m\u001b[0m\u001b[0;34m\u001b[0m\u001b[0m\n",
            "\u001b[0;32m/usr/local/lib/python3.12/dist-packages/ipykernel/kernelbase.py\u001b[0m in \u001b[0;36m_input_request\u001b[0;34m(self, prompt, ident, parent, password)\u001b[0m\n\u001b[1;32m   1217\u001b[0m             \u001b[0;32mexcept\u001b[0m \u001b[0mKeyboardInterrupt\u001b[0m\u001b[0;34m:\u001b[0m\u001b[0;34m\u001b[0m\u001b[0;34m\u001b[0m\u001b[0m\n\u001b[1;32m   1218\u001b[0m                 \u001b[0;31m# re-raise KeyboardInterrupt, to truncate traceback\u001b[0m\u001b[0;34m\u001b[0m\u001b[0;34m\u001b[0m\u001b[0m\n\u001b[0;32m-> 1219\u001b[0;31m                 \u001b[0;32mraise\u001b[0m \u001b[0mKeyboardInterrupt\u001b[0m\u001b[0;34m(\u001b[0m\u001b[0;34m\"Interrupted by user\"\u001b[0m\u001b[0;34m)\u001b[0m \u001b[0;32mfrom\u001b[0m \u001b[0;32mNone\u001b[0m\u001b[0;34m\u001b[0m\u001b[0;34m\u001b[0m\u001b[0m\n\u001b[0m\u001b[1;32m   1220\u001b[0m             \u001b[0;32mexcept\u001b[0m \u001b[0mException\u001b[0m\u001b[0;34m:\u001b[0m\u001b[0;34m\u001b[0m\u001b[0;34m\u001b[0m\u001b[0m\n\u001b[1;32m   1221\u001b[0m                 \u001b[0mself\u001b[0m\u001b[0;34m.\u001b[0m\u001b[0mlog\u001b[0m\u001b[0;34m.\u001b[0m\u001b[0mwarning\u001b[0m\u001b[0;34m(\u001b[0m\u001b[0;34m\"Invalid Message:\"\u001b[0m\u001b[0;34m,\u001b[0m \u001b[0mexc_info\u001b[0m\u001b[0;34m=\u001b[0m\u001b[0;32mTrue\u001b[0m\u001b[0;34m)\u001b[0m\u001b[0;34m\u001b[0m\u001b[0;34m\u001b[0m\u001b[0m\n",
            "\u001b[0;31mKeyboardInterrupt\u001b[0m: Interrupted by user"
          ]
        }
      ]
    },
    {
      "cell_type": "code",
      "source": [
        "kelime = input(\"Bir kelime girin: \")\n",
        "\n",
        "sayac = {}\n",
        "for harf in kelime:\n",
        "    if harf in sayac:\n",
        "        sayac[harf] += 1\n",
        "    else:\n",
        "        sayac[harf] = 1\n",
        "\n",
        "print(sayac)\n"
      ],
      "metadata": {
        "id": "10pK_WQSliq2"
      },
      "execution_count": null,
      "outputs": []
    },
    {
      "cell_type": "code",
      "source": [
        "sifre = input(\"Şifrenizi girin: \")\n",
        "\n",
        "if len(sifre) >= 8 and any(h.isupper() for h in sifre) and any(h.isdigit() for h in sifre):\n",
        "    print(\"Şifre geçerli\")\n",
        "else:\n",
        "    print(\"Şifre geçersiz\")\n"
      ],
      "metadata": {
        "id": "9waQt2i7lpyr"
      },
      "execution_count": null,
      "outputs": []
    },
    {
      "cell_type": "code",
      "source": [
        "liste = [12, 4, 9, 25, 30, 7, 18]\n",
        "ortalama = sum(liste) / len(liste)\n",
        "ort_büyük = []\n",
        "\n",
        "for sayi in liste:\n",
        "    if sayi > ortalama:\n",
        "       ort_büyük.append(sayi)\n",
        "\n",
        "print(\"Ortalama:\", ortalama)\n",
        "print(\"Ortalamadan büyükler:\", ort_büyük)\n"
      ],
      "metadata": {
        "id": "rXA-RmptmFfp"
      },
      "execution_count": null,
      "outputs": []
    },
    {
      "cell_type": "code",
      "source": [
        "for i in range(1, 6):\n",
        "    print(\"*\" * i)\n"
      ],
      "metadata": {
        "id": "le6MDwRcmkfz"
      },
      "execution_count": null,
      "outputs": []
    },
    {
      "cell_type": "code",
      "source": [
        "toplam = 0\n",
        "adet = 0\n",
        "\n",
        "while True:\n",
        "    sayi = int(input(\"Sayı girin (bitirmek için 0): \"))\n",
        "    if sayi == 0:\n",
        "        break\n",
        "    toplam += sayi\n",
        "    adet += 1\n",
        "\n",
        "if adet > 0:\n",
        "    print(\"Toplam:\", toplam)\n",
        "    print(\"Ortalama:\", toplam / adet)\n",
        "else:\n",
        "    print(\"Hiç sayı girilmedi.\")\n"
      ],
      "metadata": {
        "id": "lhoJv9yHmrqL"
      },
      "execution_count": null,
      "outputs": []
    },
    {
      "cell_type": "code",
      "source": [
        "kelime = input(\"Bir kelime girin: \")\n",
        "\n",
        "if kelime == kelime[::-1]:\n",
        "    print(\"Palindrom \")\n",
        "else:\n",
        "    print(\"Değil \")\n"
      ],
      "metadata": {
        "id": "PoggcOJim7lx"
      },
      "execution_count": null,
      "outputs": []
    },
    {
      "cell_type": "code",
      "source": [
        "liste = [x**2 for x in range(1, 100) if x % 3 == 0 and x % 5 == 0]\n",
        "print(liste)\n"
      ],
      "metadata": {
        "id": "qhyQrR8VnJlY"
      },
      "execution_count": null,
      "outputs": []
    },
    {
      "cell_type": "code",
      "source": [],
      "metadata": {
        "id": "ajdkrBc-nUg_"
      },
      "execution_count": null,
      "outputs": []
    },
    {
      "cell_type": "code",
      "source": [
        "yorumlar = []\n",
        "adet = int(input(\"Kaç yorum gireceksiniz?: \"))\n",
        "\n",
        "for i in range(adet):\n",
        "    yorum = input(f\"{i+1}. yorumu girin: \")\n",
        "    yorumlar.append(yorum)\n",
        "\n",
        "uzunluklar = [len(y) for y in yorumlar]\n",
        "iyi_sayisi = sum(1 for y in yorumlar if \"iyi\" in y.lower())\n",
        "\n",
        "print(\"Toplam yorum:\", len(yorumlar))\n",
        "print('\"iyi\" geçen yorum sayısı:', iyi_sayisi)\n",
        "print(\"En uzun yorum:\", max(yorumlar, key=len))\n",
        "print(\"En kısa yorum:\", min(yorumlar, key=len))\n",
        "print(\"Ortalama uzunluk:\", sum(uzunluklar) / len(uzunluklar))\n"
      ],
      "metadata": {
        "id": "XrA0ZKPIvbCM"
      },
      "execution_count": null,
      "outputs": []
    },
    {
      "cell_type": "code",
      "source": [],
      "metadata": {
        "id": "tR7ONtAuOLGe"
      },
      "execution_count": null,
      "outputs": []
    }
  ]
}